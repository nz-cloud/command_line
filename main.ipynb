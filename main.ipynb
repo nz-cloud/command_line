{
 "cells": [
  {
   "cell_type": "code",
   "execution_count": 10,
   "metadata": {},
   "outputs": [],
   "source": [
    "import pyautogui\n",
    "from time import sleep\n",
    "def abrir_google_chrome():\n",
    "    pyautogui.press(\"win\")\n",
    "    pyautogui.write(\"google_chrome\")\n",
    "    pyautogui.press(\"enter\")\n",
    "    sleep(3)\n",
    "\n",
    "abrir_google_chrome()"
   ]
  },
  {
   "cell_type": "code",
   "execution_count": 11,
   "metadata": {},
   "outputs": [],
   "source": [
    "def pesquisar_github():\n",
    "    pyautogui.write(\"github.com/nz-cloud\")\n",
    "    pyautogui.press(\"enter\")\n",
    "    sleep(2)\n",
    "\n",
    "pesquisar_github()"
   ]
  }
 ],
 "metadata": {
  "kernelspec": {
   "display_name": "Python 3",
   "language": "python",
   "name": "python3"
  },
  "language_info": {
   "codemirror_mode": {
    "name": "ipython",
    "version": 3
   },
   "file_extension": ".py",
   "mimetype": "text/x-python",
   "name": "python",
   "nbconvert_exporter": "python",
   "pygments_lexer": "ipython3",
   "version": "3.12.1"
  }
 },
 "nbformat": 4,
 "nbformat_minor": 2
}
